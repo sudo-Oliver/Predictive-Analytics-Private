{
 "cells": [
  {
   "cell_type": "code",
   "execution_count": 1,
   "metadata": {},
   "outputs": [],
   "source": [
    "import pandas as pd\n",
    "import numpy as np\n",
    "from pathlib import Path\n",
    "import matplotlib.pyplot as plt\n",
    "import seaborn as sns\n"
   ]
  },
  {
   "cell_type": "markdown",
   "metadata": {},
   "source": [
    "Load Data"
   ]
  },
  {
   "cell_type": "code",
   "execution_count": null,
   "metadata": {},
   "outputs": [],
   "source": [
    "def load_dataframes():\n",
    "    \"\"\"Load all sensor data into pandas DataFrames\"\"\"\n",
    "    \n",
    "    BASE_PATH = Path('/Users/olli/Desktop/Uni/Predictive Analytics/Predictive-Analytics-Project/data/raw/predictive_analytics_data_testdb')\n",
    "    \n",
    "    # Define paths for sensor data\n",
    "    DATA_PATHS = {\n",
    "        'electric_sensor': BASE_PATH / 'sensor_data/household_sensors_electric.csv',\n",
    "        'gas_sensor': BASE_PATH / 'sensor_data/household_sensors_gas.csv',\n",
    "        'room_sensors': BASE_PATH / 'sensor_data/room_and_appliance_sensors_room.csv',\n",
    "        'tempprobe_sensors': BASE_PATH / 'sensor_data/room_and_appliance_sensors_tempprobe.csv',\n",
    "        #'weather': BASE_PATH / 'sensor_data/weather_complete.csv'\n",
    "    }\n",
    "    \n",
    "    # Load each dataset\n",
    "    dataframes = {}\n",
    "    for name, path in DATA_PATHS.items():\n",
    "        try:\n",
    "            df = pd.read_csv(path)\n",
    "            # Convert timestamp columns to datetime\n",
    "            if 'timestamp' in df.columns:\n",
    "                df['timestamp'] = pd.to_datetime(df['timestamp'])\n",
    "            dataframes[name] = df\n",
    "            print(f\"Loaded {name}: {df.shape[0]} rows, {df.shape[1]} columns\")\n",
    "        except Exception as e:\n",
    "            print(f\"Error loading {name}: {str(e)}\")\n",
    "    \n",
    "    return dataframes\n",
    "\n",
    "# Load all dataframes\n",
    "dfs = load_dataframes()\n",
    "    "
   ]
  },
  {
   "cell_type": "markdown",
   "metadata": {},
   "source": [
    "Time Series Analysis"
   ]
  },
  {
   "cell_type": "code",
   "execution_count": null,
   "metadata": {},
   "outputs": [],
   "source": []
  },
  {
   "cell_type": "code",
   "execution_count": null,
   "metadata": {},
   "outputs": [],
   "source": []
  }
 ],
 "metadata": {
  "kernelspec": {
   "display_name": ".venv",
   "language": "python",
   "name": "python3"
  },
  "language_info": {
   "codemirror_mode": {
    "name": "ipython",
    "version": 3
   },
   "file_extension": ".py",
   "mimetype": "text/x-python",
   "name": "python",
   "nbconvert_exporter": "python",
   "pygments_lexer": "ipython3",
   "version": "3.13.1"
  }
 },
 "nbformat": 4,
 "nbformat_minor": 2
}
